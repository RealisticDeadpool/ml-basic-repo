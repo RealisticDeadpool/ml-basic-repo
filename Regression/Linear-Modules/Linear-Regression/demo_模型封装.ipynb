{
 "cells": [
  {
   "cell_type": "markdown",
   "id": "honest-binary",
   "metadata": {},
   "source": [
    "# demo_模型封装"
   ]
  },
  {
   "cell_type": "code",
   "execution_count": 12,
   "id": "foster-toner",
   "metadata": {},
   "outputs": [],
   "source": [
    "import numpy as np\n",
    "import pickle"
   ]
  },
  {
   "cell_type": "code",
   "execution_count": 13,
   "id": "common-smile",
   "metadata": {},
   "outputs": [],
   "source": [
    "class SalaryPredModel():\n",
    "    def __init__(self):\n",
    "        with open('存模型.pkl', 'rb') as f:\n",
    "            self.model = pickle.load(f)\n",
    "    def predict(self, values):\n",
    "        \"\"\"\n",
    "        values: 工龄\n",
    "        return: 月薪\n",
    "        \"\"\"\n",
    "        values = np.array(values).reshape(-1, 1)\n",
    "        return self.model.predict(values)"
   ]
  },
  {
   "cell_type": "code",
   "execution_count": 14,
   "id": "shared-removal",
   "metadata": {},
   "outputs": [
    {
     "data": {
      "text/plain": [
       "array([ 43650.60506417,  95840.00967742, 110073.48366285,  55986.28251821])"
      ]
     },
     "execution_count": 14,
     "metadata": {},
     "output_type": "execute_result"
    }
   ],
   "source": [
    "SalaryPredModel().predict([2, 7.5, 9., 3.3])"
   ]
  },
  {
   "cell_type": "code",
   "execution_count": null,
   "id": "scientific-candle",
   "metadata": {},
   "outputs": [],
   "source": []
  }
 ],
 "metadata": {
  "kernelspec": {
   "display_name": "Python 3",
   "language": "python",
   "name": "python3"
  },
  "language_info": {
   "codemirror_mode": {
    "name": "ipython",
    "version": 3
   },
   "file_extension": ".py",
   "mimetype": "text/x-python",
   "name": "python",
   "nbconvert_exporter": "python",
   "pygments_lexer": "ipython3",
   "version": "3.8.2"
  }
 },
 "nbformat": 4,
 "nbformat_minor": 5
}
