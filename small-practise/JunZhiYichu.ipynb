{
 "cells": [
  {
   "cell_type": "markdown",
   "id": "yellow-development",
   "metadata": {},
   "source": [
    "# demo 数据预处理之均值移除"
   ]
  },
  {
   "cell_type": "code",
   "execution_count": 11,
   "id": "surrounded-limit",
   "metadata": {},
   "outputs": [],
   "source": [
    "import numpy as np\n",
    "import sklearn.preprocessing as sp"
   ]
  },
  {
   "cell_type": "code",
   "execution_count": 13,
   "id": "acceptable-transaction",
   "metadata": {},
   "outputs": [
    {
     "data": {
      "text/plain": [
       "array([[-0.58654642, -0.64194074,  0.26726124],\n",
       "       [-0.82116498, -0.77032889, -1.33630621],\n",
       "       [ 1.4077114 ,  1.41226963,  1.06904497]])"
      ]
     },
     "execution_count": 13,
     "metadata": {},
     "output_type": "execute_result"
    }
   ],
   "source": [
    "raw_samples = np.array([\n",
    "    [23, 2, 10000],\n",
    "    [21, 1, 9000],\n",
    "    [40, 18, 10500]])\n",
    "r = sp.scale(raw_samples)\n",
    "r"
   ]
  },
  {
   "cell_type": "code",
   "execution_count": 14,
   "id": "charming-collector",
   "metadata": {},
   "outputs": [
    {
     "name": "stdout",
     "output_type": "stream",
     "text": [
      "[ 0.00000000e+00  7.40148683e-17 -9.62193288e-16]\n",
      "[1. 1. 1.]\n"
     ]
    }
   ],
   "source": [
    "print(r.mean(axis=0))\n",
    "print(r.std(axis=0))"
   ]
  },
  {
   "cell_type": "code",
   "execution_count": null,
   "id": "strategic-multiple",
   "metadata": {},
   "outputs": [],
   "source": []
  }
 ],
 "metadata": {
  "kernelspec": {
   "display_name": "Python 3",
   "language": "python",
   "name": "python3"
  },
  "language_info": {
   "codemirror_mode": {
    "name": "ipython",
    "version": 3
   },
   "file_extension": ".py",
   "mimetype": "text/x-python",
   "name": "python",
   "nbconvert_exporter": "python",
   "pygments_lexer": "ipython3",
   "version": "3.8.2"
  }
 },
 "nbformat": 4,
 "nbformat_minor": 5
}
