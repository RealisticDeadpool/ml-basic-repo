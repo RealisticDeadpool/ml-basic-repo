{
 "cells": [
  {
   "cell_type": "markdown",
   "id": "provincial-audience",
   "metadata": {},
   "source": [
    "# demo 数据预处理的方法"
   ]
  },
  {
   "cell_type": "code",
   "execution_count": 11,
   "id": "ahead-circle",
   "metadata": {},
   "outputs": [],
   "source": [
    "import numpy as np\n",
    "import sklearn.preprocessing as sp"
   ]
  },
  {
   "cell_type": "markdown",
   "id": "married-dividend",
   "metadata": {},
   "source": [
    "# 1. 均值移除"
   ]
  },
  {
   "cell_type": "code",
   "execution_count": 13,
   "id": "intended-bottle",
   "metadata": {},
   "outputs": [
    {
     "data": {
      "text/plain": [
       "array([[-0.58654642, -0.64194074,  0.26726124],\n",
       "       [-0.82116498, -0.77032889, -1.33630621],\n",
       "       [ 1.4077114 ,  1.41226963,  1.06904497]])"
      ]
     },
     "execution_count": 13,
     "metadata": {},
     "output_type": "execute_result"
    }
   ],
   "source": [
    "raw_samples = np.array([\n",
    "    [23, 2, 10000],\n",
    "    [21, 1, 9000],\n",
    "    [40, 18, 10500]])\n",
    "r = sp.scale(raw_samples)\n",
    "r"
   ]
  },
  {
   "cell_type": "code",
   "execution_count": 14,
   "id": "every-migration",
   "metadata": {},
   "outputs": [
    {
     "name": "stdout",
     "output_type": "stream",
     "text": [
      "[ 0.00000000e+00  7.40148683e-17 -9.62193288e-16]\n",
      "[1. 1. 1.]\n"
     ]
    }
   ],
   "source": [
    "print(r.mean(axis=0))\n",
    "print(r.std(axis=0))"
   ]
  },
  {
   "cell_type": "markdown",
   "id": "eastern-bruce",
   "metadata": {},
   "source": [
    "# 2. 范围缩放"
   ]
  },
  {
   "cell_type": "code",
   "execution_count": 21,
   "id": "current-kitchen",
   "metadata": {},
   "outputs": [
    {
     "data": {
      "text/plain": [
       "array([[0.10526316, 0.05882353, 0.66666667],\n",
       "       [0.        , 0.        , 0.        ],\n",
       "       [1.        , 1.        , 1.        ]])"
      ]
     },
     "execution_count": 21,
     "metadata": {},
     "output_type": "execute_result"
    }
   ],
   "source": [
    "m = sp.MinMaxScaler(feature_range=(0,1))\n",
    "result = m.fit_transform(raw_samples)\n",
    "result"
   ]
  },
  {
   "cell_type": "code",
   "execution_count": 30,
   "id": "august-laptop",
   "metadata": {},
   "outputs": [
    {
     "name": "stderr",
     "output_type": "stream",
     "text": [
      "<ipython-input-30-c76b07feb84c>:10: FutureWarning: `rcond` parameter will change to the default of machine precision times ``max(M, N)`` where M and N are the input matrix dimensions.\n",
      "To use the future default and silence this warning we advise to pass `rcond=None`, to keep using the old, explicitly pass `rcond=-1`.\n",
      "  x = np.linalg.lstsq(A, B)[0]\n"
     ]
    },
    {
     "data": {
      "text/plain": [
       "array([[ 1.05263158e-01,  5.88235294e-02,  6.66666667e-01],\n",
       "       [ 0.00000000e+00, -2.08166817e-17,  1.77635684e-15],\n",
       "       [ 1.00000000e+00,  1.00000000e+00,  1.00000000e+00]])"
      ]
     },
     "execution_count": 30,
     "metadata": {},
     "output_type": "execute_result"
    }
   ],
   "source": [
    "#手动实现范围缩放\n",
    "#针对原始样本中的每一列，都训练一个线性模型，就可以针对每个元素做缩放\n",
    "newdata = []\n",
    "for i in range(3):\n",
    "    col_val = raw_samples[:, i]\n",
    "    #整理A，B，求得x (A, B分别是求y = kx +b 中 k,b 的系数矩阵)\n",
    "    A = np.array([[col_val.max(),1],\n",
    "                 [col_val.min(),1]])\n",
    "    B = np.array([1,0])\n",
    "    x = np.linalg.lstsq(A, B)[0]\n",
    "    #x[0]是k, x[1]是b\n",
    "    new_colval = x[0] * col_val + x[1]\n",
    "    newdata.append(new_colval)\n",
    "np.array(newdata).T    \n",
    "        "
   ]
  },
  {
   "cell_type": "markdown",
   "id": "informative-fourth",
   "metadata": {},
   "source": [
    "# 3. 归一化"
   ]
  },
  {
   "cell_type": "code",
   "execution_count": 31,
   "id": "sufficient-unknown",
   "metadata": {},
   "outputs": [
    {
     "data": {
      "text/plain": [
       "array([[  17.,  100., 4000.],\n",
       "       [  20.,   80., 5000.],\n",
       "       [  23.,   75., 5500.]])"
      ]
     },
     "execution_count": 31,
     "metadata": {},
     "output_type": "execute_result"
    }
   ],
   "source": [
    "data = np.array([\n",
    "    [17., 100., 4000],\n",
    "    [20., 80., 5000],\n",
    "    [23., 75., 5500]])\n",
    "data"
   ]
  },
  {
   "cell_type": "code",
   "execution_count": 38,
   "id": "unsigned-roads",
   "metadata": {},
   "outputs": [
    {
     "name": "stdout",
     "output_type": "stream",
     "text": [
      "[[0.00412922 0.02428953 0.97158125]\n",
      " [0.00392157 0.01568627 0.98039216]\n",
      " [0.00410861 0.01339764 0.98249375]]\n",
      "[1. 1. 1.]\n"
     ]
    }
   ],
   "source": [
    "result = sp.normalize(data, norm = 'l1')#l1范数\n",
    "print(result)\n",
    "print(np.abs(result).sum(axis = 1))"
   ]
  },
  {
   "cell_type": "code",
   "execution_count": 42,
   "id": "unsigned-savings",
   "metadata": {},
   "outputs": [
    {
     "name": "stdout",
     "output_type": "stream",
     "text": [
      "[[0.00424863 0.02499197 0.99967862]\n",
      " [0.00399946 0.01599782 0.99986403]\n",
      " [0.00418139 0.01363498 0.9998983 ]]\n",
      "[1. 1. 1.]\n"
     ]
    }
   ],
   "source": [
    "result = sp.normalize(data, norm = 'l2')#l2范数\n",
    "print(result)\n",
    "print((result**2).sum(axis = 1))"
   ]
  },
  {
   "cell_type": "markdown",
   "id": "iraqi-laser",
   "metadata": {},
   "source": [
    "# 二值化"
   ]
  },
  {
   "cell_type": "code",
   "execution_count": 43,
   "id": "thermal-crystal",
   "metadata": {},
   "outputs": [
    {
     "data": {
      "text/plain": [
       "array([[0., 0., 1.],\n",
       "       [0., 0., 1.],\n",
       "       [0., 0., 1.]])"
      ]
     },
     "execution_count": 43,
     "metadata": {},
     "output_type": "execute_result"
    }
   ],
   "source": [
    "# 给出阈值, 获取二值化器\n",
    "bin = sp.Binarizer(threshold = 100)\n",
    "# 调用transform方法对原始样本矩阵进行二值化预处理操作\n",
    "r = bin.transform(data)\n",
    "r"
   ]
  },
  {
   "cell_type": "code",
   "execution_count": 48,
   "id": "textile-fossil",
   "metadata": {},
   "outputs": [
    {
     "data": {
      "text/plain": [
       "(512, 512, 3)"
      ]
     },
     "execution_count": 48,
     "metadata": {},
     "output_type": "execute_result"
    }
   ],
   "source": [
    "#图像二值化 pip3 install opencv-python -i https://pypi.tuna.tsinghua.edu.cn/simple/\n",
    "import cv2 as cv\n",
    "import matplotlib.pyplot as plt\n",
    "img = cv.imread('lily.jpg')\n",
    "img.shape #可以看这张图片多大"
   ]
  },
  {
   "cell_type": "code",
   "execution_count": null,
   "id": "undefined-cutting",
   "metadata": {},
   "outputs": [],
   "source": []
  }
 ],
 "metadata": {
  "kernelspec": {
   "display_name": "Python 3",
   "language": "python",
   "name": "python3"
  },
  "language_info": {
   "codemirror_mode": {
    "name": "ipython",
    "version": 3
   },
   "file_extension": ".py",
   "mimetype": "text/x-python",
   "name": "python",
   "nbconvert_exporter": "python",
   "pygments_lexer": "ipython3",
   "version": "3.8.2"
  }
 },
 "nbformat": 4,
 "nbformat_minor": 5
}
