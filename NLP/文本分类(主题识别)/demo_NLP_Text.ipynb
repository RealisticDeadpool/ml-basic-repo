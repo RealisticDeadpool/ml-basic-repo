{
 "cells": [
  {
   "cell_type": "code",
   "execution_count": 59,
   "id": "thrown-spencer",
   "metadata": {},
   "outputs": [],
   "source": [
    "import numpy as np\n",
    "import sklearn.datasets as sd "
   ]
  },
  {
   "cell_type": "code",
   "execution_count": 60,
   "id": "minimal-stockholm",
   "metadata": {},
   "outputs": [
    {
     "data": {
      "text/plain": [
       "dict_keys(['data', 'filenames', 'target_names', 'target', 'DESCR'])"
      ]
     },
     "execution_count": 60,
     "metadata": {},
     "output_type": "execute_result"
    }
   ],
   "source": [
    "data = sd.load_files('E:/courses/aid2005笔记素材2020/06_month06_datascience/data/20news', encoding = 'latin1', shuffle = True, random_state = 7)\n",
    "data.keys()"
   ]
  },
  {
   "cell_type": "code",
   "execution_count": 61,
   "id": "afraid-verification",
   "metadata": {},
   "outputs": [
    {
     "data": {
      "text/plain": [
       "('From: gene@theporch.raider.net (Gene Wright)\\nSubject: NASA Special Publications for Voyager Mission?\\nOrganization: The MacInteresteds of Nashville, Tn.\\nLines: 12\\n\\nI have two books, both NASA Special Publications, on the Voyager \\nMissions. One is titled \"Voyages to Jupiter\" the other \"Voyage to Saturn\" \\nThese were excellent books put together after the encounters with each \\nplanet. \\n\\nThe question is: Did NASA ever put together a similar book for either the \\nUranus encounter or Neptune? If so, what SP number is it and where can it \\nbe obtained? If not, why didn\\'t they?\\n\\n--\\n  gene@theporch.raider.net (Gene Wright)\\ntheporch.raider.net  615/297-7951 The MacInteresteds of Nashville\\n',\n",
       " 4,\n",
       " ['misc.forsale',\n",
       "  'rec.motorcycles',\n",
       "  'rec.sport.baseball',\n",
       "  'sci.crypt',\n",
       "  'sci.space'])"
      ]
     },
     "execution_count": 61,
     "metadata": {},
     "output_type": "execute_result"
    }
   ],
   "source": [
    "np.array(data.data)[0], data.target[0], data.target_names"
   ]
  },
  {
   "cell_type": "markdown",
   "id": "protecting-colony",
   "metadata": {},
   "source": [
    "# 创建并训练机器学习模型"
   ]
  },
  {
   "cell_type": "code",
   "execution_count": 62,
   "id": "brown-solution",
   "metadata": {},
   "outputs": [],
   "source": [
    "import sklearn.feature_extraction.text as ft\n",
    "import sklearn.model_selection as ms\n",
    "import sklearn.linear_model as lm\n",
    "import sklearn.metrics as sm\n",
    "import sklearn.naive_bayes as nb\n",
    "#1.整理输入集和输出集\n",
    "cv = ft.CountVectorizer()\n",
    "bow = cv.fit_transform(data.data)\n",
    "tt = ft.TfidfTransformer()\n",
    "tfidf = tt.fit_transform(bow)\n",
    "# print(tfidf)"
   ]
  },
  {
   "cell_type": "code",
   "execution_count": 63,
   "id": "twelve-relevance",
   "metadata": {},
   "outputs": [
    {
     "name": "stdout",
     "output_type": "stream",
     "text": [
      "0.9422254301943932\n",
      "0.9430872624173053\n"
     ]
    }
   ],
   "source": [
    "#2.拆分训练集和测试集\n",
    "train_x, test_x, train_y, test_y = ms.train_test_split(tfidf, data.target, test_size = 0.1, random_state = 7, stratify = data.target)\n",
    "#3.创建模型，交叉验证评估\n",
    "# model = lm.LogisticRegression()逻辑回归模型\n",
    "model = nb.MultinomialNB()#朴素贝叶斯模型\n",
    "print(ms.cross_val_score(model, train_x, train_y, cv = 5, scoring = 'f1_weighted').mean())\n",
    "print(ms.cross_val_score(model, train_x, train_y, cv = 5, scoring = 'accuracy').mean())"
   ]
  },
  {
   "cell_type": "code",
   "execution_count": 64,
   "id": "manufactured-dynamics",
   "metadata": {},
   "outputs": [
    {
     "name": "stdout",
     "output_type": "stream",
     "text": [
      "              precision    recall  f1-score   support\n",
      "\n",
      "           0       1.00      0.83      0.91        58\n",
      "           1       0.97      1.00      0.98        60\n",
      "           2       0.98      0.97      0.97        60\n",
      "           3       0.90      1.00      0.94        60\n",
      "           4       0.95      0.98      0.97        59\n",
      "\n",
      "    accuracy                           0.96       297\n",
      "   macro avg       0.96      0.96      0.96       297\n",
      "weighted avg       0.96      0.96      0.96       297\n",
      "\n"
     ]
    }
   ],
   "source": [
    "#4.训练模型，测试评估\n",
    "model.fit(train_x, train_y)\n",
    "pred_test_y = model.predict(test_x)\n",
    "print(sm.classification_report(test_y, pred_test_y))"
   ]
  },
  {
   "cell_type": "code",
   "execution_count": 65,
   "id": "written-landing",
   "metadata": {},
   "outputs": [
    {
     "name": "stdout",
     "output_type": "stream",
     "text": [
      "['rec.sport.baseball' 'sci.crypt' 'rec.motorcycles' 'sci.crypt']\n"
     ]
    }
   ],
   "source": [
    "#找一组数据验证模型准确性\n",
    "test_data = [\n",
    "    'The curveballs of right handed pitchers tend to curve to the left',\n",
    "    'Caesar cipher is an ancient form of encryption',\n",
    "    'This two-wheeler is really good on slippery roads',\n",
    "    'Lao Wang recently studied asymmetric encryption algorithm and gave up after two days of research.']\n",
    "test_bow = cv.transform(test_data)\n",
    "test_tfidf = tt.transform(test_bow)\n",
    "pred_tfidf_y = model.predict(test_tfidf)\n",
    "print(np.array(data.target_names)[pred_tfidf_y])#相当于pred_tfidf_y作为掩码"
   ]
  },
  {
   "cell_type": "code",
   "execution_count": null,
   "id": "several-proof",
   "metadata": {},
   "outputs": [],
   "source": []
  }
 ],
 "metadata": {
  "kernelspec": {
   "display_name": "Python 3",
   "language": "python",
   "name": "python3"
  },
  "language_info": {
   "codemirror_mode": {
    "name": "ipython",
    "version": 3
   },
   "file_extension": ".py",
   "mimetype": "text/x-python",
   "name": "python",
   "nbconvert_exporter": "python",
   "pygments_lexer": "ipython3",
   "version": "3.8.2"
  }
 },
 "nbformat": 4,
 "nbformat_minor": 5
}
