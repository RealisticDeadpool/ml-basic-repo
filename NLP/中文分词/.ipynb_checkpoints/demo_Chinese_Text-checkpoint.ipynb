{
 "cells": [
  {
   "cell_type": "code",
   "execution_count": 1,
   "id": "offshore-huntington",
   "metadata": {},
   "outputs": [],
   "source": [
    "import numpy as np\n",
    "import pandas as pd\n",
    "import sklearn.model_selection as ms\n",
    "import sklearn.metrics as sm\n",
    "import jieba"
   ]
  },
  {
   "cell_type": "code",
   "execution_count": 2,
   "id": "conservative-institution",
   "metadata": {},
   "outputs": [
    {
     "name": "stderr",
     "output_type": "stream",
     "text": [
      "Building prefix dict from the default dictionary ...\n",
      "Loading model from cache C:\\Users\\Administrator\\AppData\\Local\\Temp\\jieba.cache\n",
      "Loading model cost 0.911 seconds.\n",
      "Prefix dict has been built successfully.\n"
     ]
    }
   ],
   "source": [
    "#jieba加载自定义词典，词典中只能对于当前的分词进行词语合并，并不能进行在当前分词的基础上继续词语拆分\n",
    "#问题：能否基于jieba当前的分词再对其中某一个词语进行拆分，能的话怎么做？\n",
    "#答案：可以，将要分的词添加进dict.txt中，并且提高其权重即可；注意运行的时候，使用“服务--重启&运行所有”来查看是否成功\n",
    "jieba.load_userdict('dict.txt')"
   ]
  },
  {
   "cell_type": "code",
   "execution_count": 3,
   "id": "broke-waters",
   "metadata": {},
   "outputs": [
    {
     "data": {
      "text/plain": [
       "'我/喜欢/樱木/花道/，/但是/她和我/是/两个世界/的/人/；/我/很喜欢/流川枫/，/但是/她/却在/沈阳/。'"
      ]
     },
     "execution_count": 3,
     "metadata": {},
     "output_type": "execute_result"
    }
   ],
   "source": [
    "'/'.join(jieba.cut('我喜欢樱木花道，但是她和我是两个世界的人；我很喜欢流川枫，但是她却在沈阳。'))"
   ]
  },
  {
   "cell_type": "code",
   "execution_count": 4,
   "id": "featured-whale",
   "metadata": {},
   "outputs": [
    {
     "data": {
      "text/plain": [
       "'货拉拉/拉不拉/拉布拉多/。'"
      ]
     },
     "execution_count": 4,
     "metadata": {},
     "output_type": "execute_result"
    }
   ],
   "source": [
    "'/'.join(jieba.cut('货拉拉拉不拉拉布拉多。'))"
   ]
  },
  {
   "cell_type": "code",
   "execution_count": 5,
   "id": "wicked-income",
   "metadata": {},
   "outputs": [
    {
     "data": {
      "text/plain": [
       "'张平/平安/全到/家/了/。'"
      ]
     },
     "execution_count": 5,
     "metadata": {},
     "output_type": "execute_result"
    }
   ],
   "source": [
    "'/'.join(jieba.cut('张平平安全到家了。'))"
   ]
  },
  {
   "cell_type": "code",
   "execution_count": null,
   "id": "copyrighted-gender",
   "metadata": {},
   "outputs": [],
   "source": []
  }
 ],
 "metadata": {
  "kernelspec": {
   "display_name": "Python 3",
   "language": "python",
   "name": "python3"
  },
  "language_info": {
   "codemirror_mode": {
    "name": "ipython",
    "version": 3
   },
   "file_extension": ".py",
   "mimetype": "text/x-python",
   "name": "python",
   "nbconvert_exporter": "python",
   "pygments_lexer": "ipython3",
   "version": "3.8.2"
  }
 },
 "nbformat": 4,
 "nbformat_minor": 5
}
