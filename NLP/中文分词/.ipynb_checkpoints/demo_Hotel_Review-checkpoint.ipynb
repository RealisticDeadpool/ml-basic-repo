{
 "cells": [
  {
   "cell_type": "code",
   "execution_count": 35,
   "id": "jewish-budget",
   "metadata": {},
   "outputs": [],
   "source": [
    "import numpy as np\n",
    "import pandas as pd\n",
    "import jieba\n",
    "import sklearn.model_selection as ms\n",
    "import sklearn.naive_bayes as nb\n",
    "import sklearn.metrics as sm"
   ]
  },
  {
   "cell_type": "code",
   "execution_count": 36,
   "id": "crucial-startup",
   "metadata": {},
   "outputs": [],
   "source": [
    "#加载自定义词典\n",
    "jieba.load_userdict('dict2.txt')"
   ]
  },
  {
   "cell_type": "code",
   "execution_count": 37,
   "id": "informational-wednesday",
   "metadata": {},
   "outputs": [
    {
     "data": {
      "text/html": [
       "<div>\n",
       "<style scoped>\n",
       "    .dataframe tbody tr th:only-of-type {\n",
       "        vertical-align: middle;\n",
       "    }\n",
       "\n",
       "    .dataframe tbody tr th {\n",
       "        vertical-align: top;\n",
       "    }\n",
       "\n",
       "    .dataframe thead th {\n",
       "        text-align: right;\n",
       "    }\n",
       "</style>\n",
       "<table border=\"1\" class=\"dataframe\">\n",
       "  <thead>\n",
       "    <tr style=\"text-align: right;\">\n",
       "      <th></th>\n",
       "      <th>label</th>\n",
       "      <th>review</th>\n",
       "    </tr>\n",
       "  </thead>\n",
       "  <tbody>\n",
       "    <tr>\n",
       "      <th>0</th>\n",
       "      <td>1</td>\n",
       "      <td>距离 川沙 公路 较近 , 但是 公交 指示 不对 , 如果 是 \" 蔡陆线 \" 的话 , ...</td>\n",
       "    </tr>\n",
       "    <tr>\n",
       "      <th>1</th>\n",
       "      <td>1</td>\n",
       "      <td>商务 大床 房 ， 房间 很大 ， 床有 2M 宽 ， 整体 感觉 经济 实惠 不错 !</td>\n",
       "    </tr>\n",
       "  </tbody>\n",
       "</table>\n",
       "</div>"
      ],
      "text/plain": [
       "   label                                             review\n",
       "0      1  距离 川沙 公路 较近 , 但是 公交 指示 不对 , 如果 是 \" 蔡陆线 \" 的话 , ...\n",
       "1      1       商务 大床 房 ， 房间 很大 ， 床有 2M 宽 ， 整体 感觉 经济 实惠 不错 !"
      ]
     },
     "execution_count": 37,
     "metadata": {},
     "output_type": "execute_result"
    }
   ],
   "source": [
    "data = pd.read_csv('htl_all.csv')\n",
    "def func(row):\n",
    "    return ' '.join(jieba.cut(row))\n",
    "#需要查一下apply函数\n",
    "data['review'] = data['review'].apply(func)\n",
    "data.head(2)"
   ]
  },
  {
   "cell_type": "code",
   "execution_count": 38,
   "id": "objective-baltimore",
   "metadata": {},
   "outputs": [],
   "source": [
    "#获取词袋模型\n",
    "import sklearn.feature_extraction.text as ft\n",
    "cv = ft.CountVectorizer()\n",
    "bow = cv.fit_transform(data['review'])\n",
    "#获取词袋模型训练器\n",
    "tt = ft.TfidfTransformer()\n",
    "tfidf = tt.fit_transform(bow)"
   ]
  },
  {
   "cell_type": "code",
   "execution_count": 39,
   "id": "confidential-russia",
   "metadata": {},
   "outputs": [],
   "source": [
    "#整理输入输出集、拆分训练集和测试集\n",
    "train_x, test_x, train_y, test_y = ms.train_test_split(tfidf, data['label'], random_state=7, test_size=0.1)"
   ]
  },
  {
   "cell_type": "code",
   "execution_count": 40,
   "id": "interim-museum",
   "metadata": {},
   "outputs": [],
   "source": [
    "#使用多项式朴素贝叶斯模型\n",
    "import sklearn.naive_bayes as nb\n",
    "model = nb.MultinomialNB()\n",
    "model.fit(train_x, train_y)\n",
    "pred_y = model.predict(test_x)"
   ]
  },
  {
   "cell_type": "code",
   "execution_count": 41,
   "id": "developed-trout",
   "metadata": {},
   "outputs": [
    {
     "name": "stdout",
     "output_type": "stream",
     "text": [
      "[[ 45 175]\n",
      " [  4 553]]\n",
      "              precision    recall  f1-score   support\n",
      "\n",
      "           0       0.92      0.20      0.33       220\n",
      "           1       0.76      0.99      0.86       557\n",
      "\n",
      "    accuracy                           0.77       777\n",
      "   macro avg       0.84      0.60      0.60       777\n",
      "weighted avg       0.80      0.77      0.71       777\n",
      "\n"
     ]
    }
   ],
   "source": [
    "#输出混淆矩阵和分类报告\n",
    "matrix_result = sm.confusion_matrix(test_y, pred_y)\n",
    "print(matrix_result)\n",
    "cr = sm.classification_report(test_y, pred_y)\n",
    "print(cr)"
   ]
  },
  {
   "cell_type": "code",
   "execution_count": 42,
   "id": "opening-fortune",
   "metadata": {},
   "outputs": [
    {
     "name": "stdout",
     "output_type": "stream",
     "text": [
      "[[222  30]\n",
      " [ 31 206]]\n",
      "              precision    recall  f1-score   support\n",
      "\n",
      "           0       0.88      0.88      0.88       252\n",
      "           1       0.87      0.87      0.87       237\n",
      "\n",
      "    accuracy                           0.88       489\n",
      "   macro avg       0.88      0.88      0.88       489\n",
      "weighted avg       0.88      0.88      0.88       489\n",
      "\n"
     ]
    }
   ],
   "source": [
    "#上述预测结果不理想，使用‘样本类别均衡化’的方法优化数据\n",
    "data = data.tail(4886)\n",
    "cv = ft.CountVectorizer()\n",
    "bow = cv.fit_transform(data['review'])\n",
    "tt = ft.TfidfTransformer()\n",
    "tfidf = tt.fit_transform(bow)\n",
    "train_x, test_x, train_y, test_y = ms.train_test_split(tfidf, data['label'], random_state=7, test_size=0.1)\n",
    "model = nb.MultinomialNB()\n",
    "model.fit(train_x, train_y)\n",
    "pred_y = model.predict(test_x)\n",
    "matrix_result = sm.confusion_matrix(test_y, pred_y)\n",
    "print(matrix_result)\n",
    "cr = sm.classification_report(test_y, pred_y)\n",
    "print(cr)"
   ]
  },
  {
   "cell_type": "code",
   "execution_count": 44,
   "id": "respected-stereo",
   "metadata": {},
   "outputs": [
    {
     "name": "stdout",
     "output_type": "stream",
     "text": [
      "[1 0 1 1 0 0]\n"
     ]
    }
   ],
   "source": [
    "#编辑一些数据进行预测\n",
    "data_test = ['这个酒店挺不错，房间亮堂，宽敞，下次还来。',\n",
    "        '真垃圾，谁来谁孙子！',\n",
    "        '厕所挺干净，电视挺大的，但是信号不好，早餐差一点，一般。',\n",
    "        '挺喜欢的',\n",
    "        '不喜欢',\n",
    "        '不好']\n",
    "data_test = pd.Series(data_test).apply(func)\n",
    "bow_test = cv.transform(data_test)\n",
    "tfidf_test = tt.transform(bow_test)\n",
    "print(model.predict(tfidf_test))"
   ]
  },
  {
   "cell_type": "code",
   "execution_count": 52,
   "id": "differential-chinese",
   "metadata": {},
   "outputs": [
    {
     "data": {
      "text/html": [
       "<div>\n",
       "<style scoped>\n",
       "    .dataframe tbody tr th:only-of-type {\n",
       "        vertical-align: middle;\n",
       "    }\n",
       "\n",
       "    .dataframe tbody tr th {\n",
       "        vertical-align: top;\n",
       "    }\n",
       "\n",
       "    .dataframe thead th {\n",
       "        text-align: right;\n",
       "    }\n",
       "</style>\n",
       "<table border=\"1\" class=\"dataframe\">\n",
       "  <thead>\n",
       "    <tr style=\"text-align: right;\">\n",
       "      <th></th>\n",
       "      <th>data</th>\n",
       "      <th>probes</th>\n",
       "    </tr>\n",
       "  </thead>\n",
       "  <tbody>\n",
       "    <tr>\n",
       "      <th>0</th>\n",
       "      <td>这个 酒店 挺不错 ， 房间 亮堂 ， 宽敞 ， 下次 还来 。</td>\n",
       "      <td>0.824930</td>\n",
       "    </tr>\n",
       "    <tr>\n",
       "      <th>1</th>\n",
       "      <td>真 垃圾 ， 谁 来 谁 孙子 ！</td>\n",
       "      <td>0.836478</td>\n",
       "    </tr>\n",
       "    <tr>\n",
       "      <th>2</th>\n",
       "      <td>厕所 挺 干净 ， 电视 挺大 的 ， 但是 信号 不好 ， 早餐 差一点 ， 一般 。</td>\n",
       "      <td>0.525118</td>\n",
       "    </tr>\n",
       "    <tr>\n",
       "      <th>3</th>\n",
       "      <td>挺 喜欢 的</td>\n",
       "      <td>0.838765</td>\n",
       "    </tr>\n",
       "    <tr>\n",
       "      <th>4</th>\n",
       "      <td>不喜欢</td>\n",
       "      <td>0.542876</td>\n",
       "    </tr>\n",
       "    <tr>\n",
       "      <th>5</th>\n",
       "      <td>不好</td>\n",
       "      <td>0.721371</td>\n",
       "    </tr>\n",
       "  </tbody>\n",
       "</table>\n",
       "</div>"
      ],
      "text/plain": [
       "                                           data    probes\n",
       "0              这个 酒店 挺不错 ， 房间 亮堂 ， 宽敞 ， 下次 还来 。  0.824930\n",
       "1                             真 垃圾 ， 谁 来 谁 孙子 ！  0.836478\n",
       "2  厕所 挺 干净 ， 电视 挺大 的 ， 但是 信号 不好 ， 早餐 差一点 ， 一般 。  0.525118\n",
       "3                                        挺 喜欢 的  0.838765\n",
       "4                                           不喜欢  0.542876\n",
       "5                                            不好  0.721371"
      ]
     },
     "execution_count": 52,
     "metadata": {},
     "output_type": "execute_result"
    }
   ],
   "source": [
    "#输出数据的置信概率\n",
    "probes = model.predict_proba(tfidf_test).max(axis=1)#输出水平方向的最大值\n",
    "pd.DataFrame({'data':data_test, 'probes':probes})"
   ]
  },
  {
   "cell_type": "code",
   "execution_count": null,
   "id": "theoretical-there",
   "metadata": {},
   "outputs": [],
   "source": []
  }
 ],
 "metadata": {
  "kernelspec": {
   "display_name": "Python 3",
   "language": "python",
   "name": "python3"
  },
  "language_info": {
   "codemirror_mode": {
    "name": "ipython",
    "version": 3
   },
   "file_extension": ".py",
   "mimetype": "text/x-python",
   "name": "python",
   "nbconvert_exporter": "python",
   "pygments_lexer": "ipython3",
   "version": "3.8.2"
  }
 },
 "nbformat": 4,
 "nbformat_minor": 5
}
