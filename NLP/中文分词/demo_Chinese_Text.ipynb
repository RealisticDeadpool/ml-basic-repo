{
 "cells": [
  {
   "cell_type": "code",
   "execution_count": 1,
   "id": "offshore-huntington",
   "metadata": {},
   "outputs": [],
   "source": [
    "import numpy as np\n",
    "import pandas as pd\n",
    "import sklearn.model_selection as ms\n",
    "import sklearn.metrics as sm\n",
    "import jieba"
   ]
  },
  {
   "cell_type": "code",
   "execution_count": 3,
   "id": "expected-batman",
   "metadata": {},
   "outputs": [
    {
     "data": {
      "text/plain": [
       "'我/喜欢/佟佳媛/，/但是/她/和/我/是/两个/世界/的/人/；/我/喜欢/马昕宇/，/但是/她/却/在/沈阳/。'"
      ]
     },
     "execution_count": 3,
     "metadata": {},
     "output_type": "execute_result"
    }
   ],
   "source": [
    "'/'.join(jieba.cut('我喜欢佟佳媛，但是她和我是两个世界的人；我喜欢马昕宇，但是她却在沈阳。'))"
   ]
  },
  {
   "cell_type": "code",
   "execution_count": null,
   "id": "featured-whale",
   "metadata": {},
   "outputs": [],
   "source": []
  }
 ],
 "metadata": {
  "kernelspec": {
   "display_name": "Python 3",
   "language": "python",
   "name": "python3"
  },
  "language_info": {
   "codemirror_mode": {
    "name": "ipython",
    "version": 3
   },
   "file_extension": ".py",
   "mimetype": "text/x-python",
   "name": "python",
   "nbconvert_exporter": "python",
   "pygments_lexer": "ipython3",
   "version": "3.8.2"
  }
 },
 "nbformat": 4,
 "nbformat_minor": 5
}
