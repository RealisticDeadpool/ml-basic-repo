{
 "cells": [
  {
   "cell_type": "code",
   "execution_count": 1,
   "id": "qualified-powder",
   "metadata": {},
   "outputs": [],
   "source": [
    "import numpy as np\n",
    "import nltk.tokenize as tk"
   ]
  },
  {
   "cell_type": "code",
   "execution_count": 2,
   "id": "assigned-energy",
   "metadata": {},
   "outputs": [
    {
     "name": "stdout",
     "output_type": "stream",
     "text": [
      "Are you curious about tokenization? Let's see how it works! We need to analyze a couple of sentences with punctuations to see it in action.\n",
      "0 : Are you curious about tokenization?\n",
      "1 : Let's see how it works!\n",
      "2 : We need to analyze a couple of sentences with punctuations to see it in action.\n"
     ]
    }
   ],
   "source": [
    "doc = \"Are you curious about tokenization? \" \\\n",
    "      \"Let's see how it works! \" \\\n",
    "      \"We need to analyze a couple of sentences \" \\\n",
    "      \"with punctuations to see it in action.\"\n",
    "print(doc)\n",
    "sents = tk.sent_tokenize(doc)\n",
    "for i,sent in enumerate(sents):\n",
    "    print(i, ':', sent)"
   ]
  },
  {
   "cell_type": "code",
   "execution_count": 3,
   "id": "orange-consensus",
   "metadata": {},
   "outputs": [
    {
     "name": "stdout",
     "output_type": "stream",
     "text": [
      "0 : Are\n",
      "1 : you\n",
      "2 : curious\n",
      "3 : about\n",
      "4 : tokenization\n",
      "5 : ?\n",
      "6 : Let\n",
      "7 : 's\n",
      "8 : see\n",
      "9 : how\n",
      "10 : it\n",
      "11 : works\n",
      "12 : !\n",
      "13 : We\n",
      "14 : need\n",
      "15 : to\n",
      "16 : analyze\n",
      "17 : a\n",
      "18 : couple\n",
      "19 : of\n",
      "20 : sentences\n",
      "21 : with\n",
      "22 : punctuations\n",
      "23 : to\n",
      "24 : see\n",
      "25 : it\n",
      "26 : in\n",
      "27 : action\n",
      "28 : .\n"
     ]
    }
   ],
   "source": [
    "words = tk.word_tokenize(doc)\n",
    "for i, word in enumerate(words):\n",
    "    print(i, ':', word)"
   ]
  },
  {
   "cell_type": "code",
   "execution_count": 4,
   "id": "sorted-calculator",
   "metadata": {},
   "outputs": [
    {
     "name": "stdout",
     "output_type": "stream",
     "text": [
      "0 : Are\n",
      "1 : you\n",
      "2 : curious\n",
      "3 : about\n",
      "4 : tokenization\n",
      "5 : ?\n",
      "6 : Let\n",
      "7 : '\n",
      "8 : s\n",
      "9 : see\n",
      "10 : how\n",
      "11 : it\n",
      "12 : works\n",
      "13 : !\n",
      "14 : We\n",
      "15 : need\n",
      "16 : to\n",
      "17 : analyze\n",
      "18 : a\n",
      "19 : couple\n",
      "20 : of\n",
      "21 : sentences\n",
      "22 : with\n",
      "23 : punctuations\n",
      "24 : to\n",
      "25 : see\n",
      "26 : it\n",
      "27 : in\n",
      "28 : action\n",
      "29 : .\n"
     ]
    }
   ],
   "source": [
    "punctTokenizer = tk.WordPunctTokenizer() \n",
    "word_list = punctTokenizer.tokenize(doc)\n",
    "for i, word in enumerate(word_list):\n",
    "    print(i, ':', word)"
   ]
  },
  {
   "cell_type": "code",
   "execution_count": 5,
   "id": "spread-electricity",
   "metadata": {},
   "outputs": [
    {
     "name": "stdout",
     "output_type": "stream",
     "text": [
      "0 : 前门到了请后门下车，欢迎下次光临。\n"
     ]
    }
   ],
   "source": [
    "words = tk.word_tokenize('前门到了请后门下车，欢迎下次光临。')\n",
    "for i, word in enumerate(words):\n",
    "    print(i, ':', word)"
   ]
  },
  {
   "cell_type": "code",
   "execution_count": 6,
   "id": "expected-certificate",
   "metadata": {},
   "outputs": [
    {
     "data": {
      "text/plain": [
       "['This hotel is very bad.',\n",
       " 'The toilet in this hotel smells bad.',\n",
       " 'The environment of this hotel is very good.']"
      ]
     },
     "execution_count": 6,
     "metadata": {},
     "output_type": "execute_result"
    }
   ],
   "source": [
    "doc = 'This hotel is very bad. The toilet in this hotel smells bad. The environment of this hotel is very good.'\n",
    "sents = tk.sent_tokenize(doc)\n",
    "sents"
   ]
  },
  {
   "cell_type": "markdown",
   "id": "dressed-cambodia",
   "metadata": {},
   "source": [
    "# 词袋模型"
   ]
  },
  {
   "cell_type": "code",
   "execution_count": 7,
   "id": "combined-financing",
   "metadata": {},
   "outputs": [
    {
     "name": "stdout",
     "output_type": "stream",
     "text": [
      "[[1 0 0 1 0 1 0 0 0 1 0 1]\n",
      " [1 0 0 1 1 0 0 1 1 1 1 0]\n",
      " [0 1 1 1 0 1 1 0 1 1 0 1]]\n"
     ]
    }
   ],
   "source": [
    "import sklearn.feature_extraction.text as ft\n",
    "cv = ft.CountVectorizer()\n",
    "bow = cv.fit_transform(sents)\n",
    "print(bow.toarray())"
   ]
  },
  {
   "cell_type": "code",
   "execution_count": 8,
   "id": "marked-glance",
   "metadata": {},
   "outputs": [
    {
     "data": {
      "text/plain": [
       "['bad',\n",
       " 'environment',\n",
       " 'good',\n",
       " 'hotel',\n",
       " 'in',\n",
       " 'is',\n",
       " 'of',\n",
       " 'smells',\n",
       " 'the',\n",
       " 'this',\n",
       " 'toilet',\n",
       " 'very']"
      ]
     },
     "execution_count": 8,
     "metadata": {},
     "output_type": "execute_result"
    }
   ],
   "source": [
    "words = cv.get_feature_names()\n",
    "words"
   ]
  },
  {
   "cell_type": "markdown",
   "id": "virgin-wrong",
   "metadata": {},
   "source": [
    "# TF-IDF"
   ]
  },
  {
   "cell_type": "code",
   "execution_count": 11,
   "id": "legendary-translation",
   "metadata": {},
   "outputs": [
    {
     "name": "stdout",
     "output_type": "stream",
     "text": [
      "[[0.488 0.    0.    0.379 0.    0.488 0.    0.    0.    0.379 0.    0.488]\n",
      " [0.345 0.    0.    0.268 0.454 0.    0.    0.454 0.345 0.268 0.454 0.   ]\n",
      " [0.    0.429 0.429 0.253 0.    0.326 0.429 0.    0.326 0.253 0.    0.326]]\n",
      "['bad', 'environment', 'good', 'hotel', 'in', 'is', 'of', 'smells', 'the', 'this', 'toilet', 'very']\n"
     ]
    }
   ],
   "source": [
    "tt = ft.TfidfTransformer()\n",
    "tfidf = tt.fit_transform(bow)\n",
    "print(np.round(tfidf.toarray(), 3))\n",
    "print(cv.get_feature_names())"
   ]
  },
  {
   "cell_type": "code",
   "execution_count": 12,
   "id": "collectible-america",
   "metadata": {},
   "outputs": [
    {
     "data": {
      "text/html": [
       "<div>\n",
       "<style scoped>\n",
       "    .dataframe tbody tr th:only-of-type {\n",
       "        vertical-align: middle;\n",
       "    }\n",
       "\n",
       "    .dataframe tbody tr th {\n",
       "        vertical-align: top;\n",
       "    }\n",
       "\n",
       "    .dataframe thead th {\n",
       "        text-align: right;\n",
       "    }\n",
       "</style>\n",
       "<table border=\"1\" class=\"dataframe\">\n",
       "  <thead>\n",
       "    <tr style=\"text-align: right;\">\n",
       "      <th></th>\n",
       "      <th>bad</th>\n",
       "      <th>environment</th>\n",
       "      <th>good</th>\n",
       "      <th>hotel</th>\n",
       "      <th>in</th>\n",
       "      <th>is</th>\n",
       "      <th>of</th>\n",
       "      <th>smells</th>\n",
       "      <th>the</th>\n",
       "      <th>this</th>\n",
       "      <th>toilet</th>\n",
       "      <th>very</th>\n",
       "    </tr>\n",
       "  </thead>\n",
       "  <tbody>\n",
       "    <tr>\n",
       "      <th>0</th>\n",
       "      <td>0.488</td>\n",
       "      <td>0.000</td>\n",
       "      <td>0.000</td>\n",
       "      <td>0.379</td>\n",
       "      <td>0.000</td>\n",
       "      <td>0.488</td>\n",
       "      <td>0.000</td>\n",
       "      <td>0.000</td>\n",
       "      <td>0.000</td>\n",
       "      <td>0.379</td>\n",
       "      <td>0.000</td>\n",
       "      <td>0.488</td>\n",
       "    </tr>\n",
       "    <tr>\n",
       "      <th>1</th>\n",
       "      <td>0.345</td>\n",
       "      <td>0.000</td>\n",
       "      <td>0.000</td>\n",
       "      <td>0.268</td>\n",
       "      <td>0.454</td>\n",
       "      <td>0.000</td>\n",
       "      <td>0.000</td>\n",
       "      <td>0.454</td>\n",
       "      <td>0.345</td>\n",
       "      <td>0.268</td>\n",
       "      <td>0.454</td>\n",
       "      <td>0.000</td>\n",
       "    </tr>\n",
       "    <tr>\n",
       "      <th>2</th>\n",
       "      <td>0.000</td>\n",
       "      <td>0.429</td>\n",
       "      <td>0.429</td>\n",
       "      <td>0.253</td>\n",
       "      <td>0.000</td>\n",
       "      <td>0.326</td>\n",
       "      <td>0.429</td>\n",
       "      <td>0.000</td>\n",
       "      <td>0.326</td>\n",
       "      <td>0.253</td>\n",
       "      <td>0.000</td>\n",
       "      <td>0.326</td>\n",
       "    </tr>\n",
       "  </tbody>\n",
       "</table>\n",
       "</div>"
      ],
      "text/plain": [
       "     bad  environment   good  hotel     in     is     of  smells    the  \\\n",
       "0  0.488        0.000  0.000  0.379  0.000  0.488  0.000   0.000  0.000   \n",
       "1  0.345        0.000  0.000  0.268  0.454  0.000  0.000   0.454  0.345   \n",
       "2  0.000        0.429  0.429  0.253  0.000  0.326  0.429   0.000  0.326   \n",
       "\n",
       "    this  toilet   very  \n",
       "0  0.379   0.000  0.488  \n",
       "1  0.268   0.454  0.000  \n",
       "2  0.253   0.000  0.326  "
      ]
     },
     "execution_count": 12,
     "metadata": {},
     "output_type": "execute_result"
    }
   ],
   "source": [
    "import pandas as pd\n",
    "pd.DataFrame(np.round(tfidf.toarray(),3), columns = cv.get_feature_names())"
   ]
  },
  {
   "cell_type": "code",
   "execution_count": null,
   "id": "bibliographic-reach",
   "metadata": {},
   "outputs": [],
   "source": []
  }
 ],
 "metadata": {
  "kernelspec": {
   "display_name": "Python 3",
   "language": "python",
   "name": "python3"
  },
  "language_info": {
   "codemirror_mode": {
    "name": "ipython",
    "version": 3
   },
   "file_extension": ".py",
   "mimetype": "text/x-python",
   "name": "python",
   "nbconvert_exporter": "python",
   "pygments_lexer": "ipython3",
   "version": "3.8.2"
  }
 },
 "nbformat": 4,
 "nbformat_minor": 5
}
