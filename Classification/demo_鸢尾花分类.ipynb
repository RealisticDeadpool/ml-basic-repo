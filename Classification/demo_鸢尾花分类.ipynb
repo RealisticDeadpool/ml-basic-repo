{
 "cells": [
  {
   "cell_type": "code",
   "execution_count": 1,
   "id": "ranging-bolivia",
   "metadata": {},
   "outputs": [],
   "source": [
    "import numpy as np\n",
    "import pandas as pd\n",
    "import sklearn.datasets as sd"
   ]
  },
  {
   "cell_type": "code",
   "execution_count": 2,
   "id": "pleasant-firewall",
   "metadata": {},
   "outputs": [
    {
     "data": {
      "text/plain": [
       "dict_keys(['data', 'target', 'frame', 'target_names', 'DESCR', 'feature_names', 'filename'])"
      ]
     },
     "execution_count": 2,
     "metadata": {},
     "output_type": "execute_result"
    }
   ],
   "source": [
    "iris = sd.load_iris()#可以在E:\\Dev_Kits_Python\\python-3.8.2\\Lib\\site-packages\\sklearn\\datasets\\data中直接找到\n",
    "iris.keys()#['data', 'target', 'frame', 'target_names', 'DESCR', 'feature_names', 'filename']\n",
    "# print(iris.data)"
   ]
  },
  {
   "cell_type": "code",
   "execution_count": 3,
   "id": "cardiovascular-fifth",
   "metadata": {},
   "outputs": [
    {
     "data": {
      "text/html": [
       "<div>\n",
       "<style scoped>\n",
       "    .dataframe tbody tr th:only-of-type {\n",
       "        vertical-align: middle;\n",
       "    }\n",
       "\n",
       "    .dataframe tbody tr th {\n",
       "        vertical-align: top;\n",
       "    }\n",
       "\n",
       "    .dataframe thead th {\n",
       "        text-align: right;\n",
       "    }\n",
       "</style>\n",
       "<table border=\"1\" class=\"dataframe\">\n",
       "  <thead>\n",
       "    <tr style=\"text-align: right;\">\n",
       "      <th></th>\n",
       "      <th>sepal length (cm)</th>\n",
       "      <th>sepal width (cm)</th>\n",
       "      <th>petal length (cm)</th>\n",
       "      <th>petal width (cm)</th>\n",
       "      <th>target</th>\n",
       "    </tr>\n",
       "  </thead>\n",
       "  <tbody>\n",
       "    <tr>\n",
       "      <th>0</th>\n",
       "      <td>5.1</td>\n",
       "      <td>3.5</td>\n",
       "      <td>1.4</td>\n",
       "      <td>0.2</td>\n",
       "      <td>0</td>\n",
       "    </tr>\n",
       "    <tr>\n",
       "      <th>1</th>\n",
       "      <td>4.9</td>\n",
       "      <td>3.0</td>\n",
       "      <td>1.4</td>\n",
       "      <td>0.2</td>\n",
       "      <td>0</td>\n",
       "    </tr>\n",
       "    <tr>\n",
       "      <th>2</th>\n",
       "      <td>4.7</td>\n",
       "      <td>3.2</td>\n",
       "      <td>1.3</td>\n",
       "      <td>0.2</td>\n",
       "      <td>0</td>\n",
       "    </tr>\n",
       "    <tr>\n",
       "      <th>3</th>\n",
       "      <td>4.6</td>\n",
       "      <td>3.1</td>\n",
       "      <td>1.5</td>\n",
       "      <td>0.2</td>\n",
       "      <td>0</td>\n",
       "    </tr>\n",
       "    <tr>\n",
       "      <th>4</th>\n",
       "      <td>5.0</td>\n",
       "      <td>3.6</td>\n",
       "      <td>1.4</td>\n",
       "      <td>0.2</td>\n",
       "      <td>0</td>\n",
       "    </tr>\n",
       "  </tbody>\n",
       "</table>\n",
       "</div>"
      ],
      "text/plain": [
       "   sepal length (cm)  sepal width (cm)  petal length (cm)  petal width (cm)  \\\n",
       "0                5.1               3.5                1.4               0.2   \n",
       "1                4.9               3.0                1.4               0.2   \n",
       "2                4.7               3.2                1.3               0.2   \n",
       "3                4.6               3.1                1.5               0.2   \n",
       "4                5.0               3.6                1.4               0.2   \n",
       "\n",
       "   target  \n",
       "0       0  \n",
       "1       0  \n",
       "2       0  \n",
       "3       0  \n",
       "4       0  "
      ]
     },
     "execution_count": 3,
     "metadata": {},
     "output_type": "execute_result"
    }
   ],
   "source": [
    "data = pd.DataFrame(iris.data, columns = iris.feature_names)\n",
    "data['target'] = iris.target\n",
    "data.head()"
   ]
  },
  {
   "cell_type": "code",
   "execution_count": 4,
   "id": "changing-anthropology",
   "metadata": {},
   "outputs": [
    {
     "data": {
      "text/html": [
       "<div>\n",
       "<style scoped>\n",
       "    .dataframe tbody tr th:only-of-type {\n",
       "        vertical-align: middle;\n",
       "    }\n",
       "\n",
       "    .dataframe tbody tr th {\n",
       "        vertical-align: top;\n",
       "    }\n",
       "\n",
       "    .dataframe thead th {\n",
       "        text-align: right;\n",
       "    }\n",
       "</style>\n",
       "<table border=\"1\" class=\"dataframe\">\n",
       "  <thead>\n",
       "    <tr style=\"text-align: right;\">\n",
       "      <th></th>\n",
       "      <th>petal length (cm)</th>\n",
       "      <th>petal width (cm)</th>\n",
       "      <th>sepal length (cm)</th>\n",
       "      <th>sepal width (cm)</th>\n",
       "    </tr>\n",
       "    <tr>\n",
       "      <th>target</th>\n",
       "      <th></th>\n",
       "      <th></th>\n",
       "      <th></th>\n",
       "      <th></th>\n",
       "    </tr>\n",
       "  </thead>\n",
       "  <tbody>\n",
       "    <tr>\n",
       "      <th>0</th>\n",
       "      <td>1.462</td>\n",
       "      <td>0.246</td>\n",
       "      <td>5.006</td>\n",
       "      <td>3.428</td>\n",
       "    </tr>\n",
       "    <tr>\n",
       "      <th>1</th>\n",
       "      <td>4.260</td>\n",
       "      <td>1.326</td>\n",
       "      <td>5.936</td>\n",
       "      <td>2.770</td>\n",
       "    </tr>\n",
       "    <tr>\n",
       "      <th>2</th>\n",
       "      <td>5.552</td>\n",
       "      <td>2.026</td>\n",
       "      <td>6.588</td>\n",
       "      <td>2.974</td>\n",
       "    </tr>\n",
       "  </tbody>\n",
       "</table>\n",
       "</div>"
      ],
      "text/plain": [
       "        petal length (cm)  petal width (cm)  sepal length (cm)  \\\n",
       "target                                                           \n",
       "0                   1.462             0.246              5.006   \n",
       "1                   4.260             1.326              5.936   \n",
       "2                   5.552             2.026              6.588   \n",
       "\n",
       "        sepal width (cm)  \n",
       "target                    \n",
       "0                  3.428  \n",
       "1                  2.770  \n",
       "2                  2.974  "
      ]
     },
     "execution_count": 4,
     "metadata": {},
     "output_type": "execute_result"
    }
   ],
   "source": [
    "#按照鸢尾花的种类分组，观察其他四个特征的特征值\n",
    "# data.pivot_table(index='target', values='sepal length (cm)')#观察单个种类分组的特征情况\n",
    "data.pivot_table(index='target')"
   ]
  },
  {
   "cell_type": "markdown",
   "id": "standing-chassis",
   "metadata": {},
   "source": [
    "# 数据可视化，绘制散点图"
   ]
  },
  {
   "cell_type": "code",
   "execution_count": 5,
   "id": "early-ordinary",
   "metadata": {},
   "outputs": [
    {
     "data": {
      "text/plain": [
       "<AxesSubplot:xlabel='petal length (cm)', ylabel='petal width (cm)'>"
      ]
     },
     "execution_count": 5,
     "metadata": {},
     "output_type": "execute_result"
    },
    {
     "data": {
      "image/png": "[encoded data removed]",
      "text/plain": [
       "<Figure size 432x288 with 2 Axes>"
      ]
     },
     "metadata": {
      "needs_background": "light"
     },
     "output_type": "display_data"
    }
   ],
   "source": [
    "import matplotlib.pyplot as plt\n",
    "data.plot.scatter(x='petal length (cm)', y='petal width (cm)', c = 'target', cmap = 'brg')"
   ]
  },
  {
   "cell_type": "code",
   "execution_count": 6,
   "id": "public-glenn",
   "metadata": {},
   "outputs": [
    {
     "data": {
      "text/plain": [
       "<AxesSubplot:xlabel='sepal length (cm)', ylabel='sepal width (cm)'>"
      ]
     },
     "execution_count": 6,
     "metadata": {},
     "output_type": "execute_result"
    },
    {
     "data": {
      "image/png": "[encoded data removed]",
      "text/plain": [
       "<Figure size 432x288 with 2 Axes>"
      ]
     },
     "metadata": {
      "needs_background": "light"
     },
     "output_type": "display_data"
    }
   ],
   "source": [
    "data.plot.scatter(x='sepal length (cm)', y='sepal width (cm)', c= 'target', cmap='brg')"
   ]
  },
  {
   "cell_type": "markdown",
   "id": "economic-appraisal",
   "metadata": {},
   "source": [
    "# 绘制逻辑函数 sigmoid"
   ]
  },
  {
   "cell_type": "code",
   "execution_count": 7,
   "id": "metallic-latitude",
   "metadata": {},
   "outputs": [
    {
     "data": {
      "text/plain": [
       "[<matplotlib.lines.Line2D at 0x278a95e7940>]"
      ]
     },
     "execution_count": 7,
     "metadata": {},
     "output_type": "execute_result"
    },
    {
     "data": {
      "image/png": "[encoded data removed]",
      "text/plain": [
       "<Figure size 432x288 with 1 Axes>"
      ]
     },
     "metadata": {
      "needs_background": "light"
     },
     "output_type": "display_data"
    }
   ],
   "source": [
    "x = np.linspace(-10, 10, 200)\n",
    "y = 1 / (1 + np.exp(-x))\n",
    "plt.grid(linestyle=':')\n",
    "plt.plot(x, y)"
   ]
  },
  {
   "cell_type": "markdown",
   "id": "lightweight-palestine",
   "metadata": {},
   "source": [
    "# 使用逻辑回归对鸢尾花数据集进行二分类"
   ]
  },
  {
   "cell_type": "code",
   "execution_count": 8,
   "id": "emerging-journal",
   "metadata": {},
   "outputs": [
    {
     "data": {
      "text/html": [
       "<div>\n",
       "<style scoped>\n",
       "    .dataframe tbody tr th:only-of-type {\n",
       "        vertical-align: middle;\n",
       "    }\n",
       "\n",
       "    .dataframe tbody tr th {\n",
       "        vertical-align: top;\n",
       "    }\n",
       "\n",
       "    .dataframe thead th {\n",
       "        text-align: right;\n",
       "    }\n",
       "</style>\n",
       "<table border=\"1\" class=\"dataframe\">\n",
       "  <thead>\n",
       "    <tr style=\"text-align: right;\">\n",
       "      <th></th>\n",
       "      <th>sepal length (cm)</th>\n",
       "      <th>sepal width (cm)</th>\n",
       "      <th>petal length (cm)</th>\n",
       "      <th>petal width (cm)</th>\n",
       "      <th>target</th>\n",
       "    </tr>\n",
       "  </thead>\n",
       "  <tbody>\n",
       "    <tr>\n",
       "      <th>50</th>\n",
       "      <td>7.0</td>\n",
       "      <td>3.2</td>\n",
       "      <td>4.7</td>\n",
       "      <td>1.4</td>\n",
       "      <td>1</td>\n",
       "    </tr>\n",
       "    <tr>\n",
       "      <th>51</th>\n",
       "      <td>6.4</td>\n",
       "      <td>3.2</td>\n",
       "      <td>4.5</td>\n",
       "      <td>1.5</td>\n",
       "      <td>1</td>\n",
       "    </tr>\n",
       "    <tr>\n",
       "      <th>52</th>\n",
       "      <td>6.9</td>\n",
       "      <td>3.1</td>\n",
       "      <td>4.9</td>\n",
       "      <td>1.5</td>\n",
       "      <td>1</td>\n",
       "    </tr>\n",
       "    <tr>\n",
       "      <th>53</th>\n",
       "      <td>5.5</td>\n",
       "      <td>2.3</td>\n",
       "      <td>4.0</td>\n",
       "      <td>1.3</td>\n",
       "      <td>1</td>\n",
       "    </tr>\n",
       "    <tr>\n",
       "      <th>54</th>\n",
       "      <td>6.5</td>\n",
       "      <td>2.8</td>\n",
       "      <td>4.6</td>\n",
       "      <td>1.5</td>\n",
       "      <td>1</td>\n",
       "    </tr>\n",
       "    <tr>\n",
       "      <th>...</th>\n",
       "      <td>...</td>\n",
       "      <td>...</td>\n",
       "      <td>...</td>\n",
       "      <td>...</td>\n",
       "      <td>...</td>\n",
       "    </tr>\n",
       "    <tr>\n",
       "      <th>145</th>\n",
       "      <td>6.7</td>\n",
       "      <td>3.0</td>\n",
       "      <td>5.2</td>\n",
       "      <td>2.3</td>\n",
       "      <td>2</td>\n",
       "    </tr>\n",
       "    <tr>\n",
       "      <th>146</th>\n",
       "      <td>6.3</td>\n",
       "      <td>2.5</td>\n",
       "      <td>5.0</td>\n",
       "      <td>1.9</td>\n",
       "      <td>2</td>\n",
       "    </tr>\n",
       "    <tr>\n",
       "      <th>147</th>\n",
       "      <td>6.5</td>\n",
       "      <td>3.0</td>\n",
       "      <td>5.2</td>\n",
       "      <td>2.0</td>\n",
       "      <td>2</td>\n",
       "    </tr>\n",
       "    <tr>\n",
       "      <th>148</th>\n",
       "      <td>6.2</td>\n",
       "      <td>3.4</td>\n",
       "      <td>5.4</td>\n",
       "      <td>2.3</td>\n",
       "      <td>2</td>\n",
       "    </tr>\n",
       "    <tr>\n",
       "      <th>149</th>\n",
       "      <td>5.9</td>\n",
       "      <td>3.0</td>\n",
       "      <td>5.1</td>\n",
       "      <td>1.8</td>\n",
       "      <td>2</td>\n",
       "    </tr>\n",
       "  </tbody>\n",
       "</table>\n",
       "<p>100 rows × 5 columns</p>\n",
       "</div>"
      ],
      "text/plain": [
       "     sepal length (cm)  sepal width (cm)  petal length (cm)  petal width (cm)  \\\n",
       "50                 7.0               3.2                4.7               1.4   \n",
       "51                 6.4               3.2                4.5               1.5   \n",
       "52                 6.9               3.1                4.9               1.5   \n",
       "53                 5.5               2.3                4.0               1.3   \n",
       "54                 6.5               2.8                4.6               1.5   \n",
       "..                 ...               ...                ...               ...   \n",
       "145                6.7               3.0                5.2               2.3   \n",
       "146                6.3               2.5                5.0               1.9   \n",
       "147                6.5               3.0                5.2               2.0   \n",
       "148                6.2               3.4                5.4               2.3   \n",
       "149                5.9               3.0                5.1               1.8   \n",
       "\n",
       "     target  \n",
       "50        1  \n",
       "51        1  \n",
       "52        1  \n",
       "53        1  \n",
       "54        1  \n",
       "..      ...  \n",
       "145       2  \n",
       "146       2  \n",
       "147       2  \n",
       "148       2  \n",
       "149       2  \n",
       "\n",
       "[100 rows x 5 columns]"
      ]
     },
     "execution_count": 8,
     "metadata": {},
     "output_type": "execute_result"
    }
   ],
   "source": [
    "sub_data = data.tail(100)\n",
    "sub_data"
   ]
  },
  {
   "cell_type": "code",
   "execution_count": 9,
   "id": "preceding-invention",
   "metadata": {},
   "outputs": [],
   "source": [
    "import sklearn.model_selection as ms\n",
    "x, y = sub_data.loc[:,:'petal width (cm)'], sub_data['target']\n",
    "train_x, test_x, train_y, test_y = ms.train_test_split(x, y, test_size=0.2, random_state=7)"
   ]
  },
  {
   "cell_type": "code",
   "execution_count": 10,
   "id": "vietnamese-tiger",
   "metadata": {},
   "outputs": [
    {
     "name": "stdout",
     "output_type": "stream",
     "text": [
      "训练集预测结果： [2 1 1 2 1 2 2 1 2 2 2 2 1 2 2 1 1 1 1 2 2 2 2 2 1 1 2 2 1 2 1 1 1 2 1 2 2\n",
      " 2 1 1 2 1 1 1 1 2 1 2 2 2 2 1 2 2 2 2 2 1 1 2 2 1 1 1 1 2 1 1 1 2 2 1 2 2\n",
      " 1 2 2 1 2 1]\n",
      "测试集预测结果： [1 1 2 2 1 1 2 2 2 2 1 1 2 1 2 1 1 2 2 2]\n",
      "测试集真实结果： [1 1 2 2 1 1 2 2 2 1 1 1 2 1 2 1 1 2 1 1]\n",
      "正确率： 0.85\n"
     ]
    }
   ],
   "source": [
    "import sklearn.linear_model as lm\n",
    "model = lm.LogisticRegression(solver = 'liblinear', C = 1.0)\n",
    "model.fit(train_x, train_y)\n",
    "pred_test_y = model.predict(test_x)\n",
    "print('训练集预测结果：', model.predict(train_x))\n",
    "print('测试集预测结果：', model.predict(test_x))\n",
    "print('测试集真实结果：', test_y.values)\n",
    "print('正确率：', ((pred_test_y == test_y.values).sum()) / test_y.size )"
   ]
  },
  {
   "cell_type": "markdown",
   "id": "numerous-rating",
   "metadata": {},
   "source": [
    "# 多元分类"
   ]
  },
  {
   "cell_type": "code",
   "execution_count": 17,
   "id": "facial-cancellation",
   "metadata": {},
   "outputs": [],
   "source": [
    "x, y = data.loc[:,:'petal width (cm)'], data['target']\n",
    "train_x, test_x, train_y, test_y = ms.train_test_split(x, y, test_size=0.2, random_state=7, stratify=y)\n",
    "model = lm.LogisticRegression(solver = 'liblinear', C = 1.0)"
   ]
  },
  {
   "cell_type": "code",
   "execution_count": 18,
   "id": "novel-pattern",
   "metadata": {},
   "outputs": [
    {
     "name": "stdout",
     "output_type": "stream",
     "text": [
      "0.9600000000000002\n",
      "0.9652214452214454\n",
      "0.9600000000000002\n",
      "0.959522933505973\n"
     ]
    }
   ],
   "source": [
    "#交叉验证\n",
    "import sklearn.model_selection as ms\n",
    "s_score = ms.cross_val_score(model, x, y, cv = 5, scoring = 'accuracy')\n",
    "print(s_score.mean())\n",
    "s_score = ms.cross_val_score(model, x, y, cv = 5, scoring = 'precision_weighted')\n",
    "print(s_score.mean())\n",
    "s_score = ms.cross_val_score(model, x, y, cv = 5, scoring = 'recall_weighted')\n",
    "print(s_score.mean())\n",
    "s_score = ms.cross_val_score(model, x, y, cv = 5, scoring = 'f1_weighted')\n",
    "print(s_score.mean())"
   ]
  },
  {
   "cell_type": "code",
   "execution_count": 19,
   "id": "stretch-article",
   "metadata": {},
   "outputs": [
    {
     "name": "stdout",
     "output_type": "stream",
     "text": [
      "训练集预测结果： [2 0 2 2 2 2 0 2 0 1 2 2 0 2 1 2 1 0 1 0 0 1 0 2 1 1 0 1 0 1 2 1 1 0 1 2 2\n",
      " 0 2 2 2 2 1 1 0 2 0 2 0 1 1 1 1 2 1 2 0 2 0 1 1 0 2 1 1 2 0 1 2 0 0 2 0 2\n",
      " 0 0 2 0 1 2 0 1 1 0 0 1 0 0 0 0 1 2 2 2 0 1 2 2 1 0 2 0 1 1 1 2 0 2 2 2 0\n",
      " 2 2 1 2 0 0 2 1 0]\n",
      "测试集预测结果： [2 0 0 1 2 1 2 0 2 2 1 0 0 2 1 1 0 0 1 1 2 0 1 0 2 2 1 1 0 2]\n",
      "测试集真实结果： [2 0 0 1 2 1 2 0 2 2 1 0 0 1 1 1 0 0 1 1 2 0 1 0 2 2 2 1 0 2]\n",
      "正确率： 0.9333333333333333\n"
     ]
    }
   ],
   "source": [
    "model.fit(train_x, train_y)\n",
    "pred_test_y = model.predict(test_x)\n",
    "print('训练集预测结果：', model.predict(train_x))\n",
    "print('测试集预测结果：', model.predict(test_x))\n",
    "print('测试集真实结果：', test_y.values)\n",
    "print('正确率：', ((pred_test_y == test_y.values).sum()) / test_y.size )"
   ]
  },
  {
   "cell_type": "markdown",
   "id": "alone-breach",
   "metadata": {},
   "source": [
    "# 混淆矩阵"
   ]
  },
  {
   "cell_type": "code",
   "execution_count": 20,
   "id": "charitable-occasions",
   "metadata": {},
   "outputs": [
    {
     "data": {
      "text/plain": [
       "array([[10,  0,  0],\n",
       "       [ 0,  9,  1],\n",
       "       [ 0,  1,  9]], dtype=int64)"
      ]
     },
     "execution_count": 20,
     "metadata": {},
     "output_type": "execute_result"
    }
   ],
   "source": [
    "import sklearn.metrics as sm \n",
    "matricx_a = sm.confusion_matrix(test_y, model.predict(test_x))\n",
    "matricx_a"
   ]
  },
  {
   "cell_type": "markdown",
   "id": "stopped-ensemble",
   "metadata": {},
   "source": [
    "# 分类报告"
   ]
  },
  {
   "cell_type": "code",
   "execution_count": 22,
   "id": "static-smile",
   "metadata": {},
   "outputs": [
    {
     "name": "stdout",
     "output_type": "stream",
     "text": [
      "              precision    recall  f1-score   support\n",
      "\n",
      "           0       1.00      1.00      1.00        10\n",
      "           1       0.90      0.90      0.90        10\n",
      "           2       0.90      0.90      0.90        10\n",
      "\n",
      "    accuracy                           0.93        30\n",
      "   macro avg       0.93      0.93      0.93        30\n",
      "weighted avg       0.93      0.93      0.93        30\n",
      "\n"
     ]
    }
   ],
   "source": [
    "cr = sm.classification_report(test_y, model.predict(test_x))\n",
    "print(cr)"
   ]
  },
  {
   "cell_type": "code",
   "execution_count": null,
   "id": "modern-stanley",
   "metadata": {},
   "outputs": [],
   "source": []
  },
  {
   "cell_type": "markdown",
   "id": "furnished-despite",
   "metadata": {},
   "source": [
    "# 绘制错误样本"
   ]
  },
  {
   "cell_type": "code",
   "execution_count": null,
   "id": "verified-combat",
   "metadata": {},
   "outputs": [],
   "source": [
    "error_samples = test_x[pred_test_y != test_y]\n",
    "error_samples"
   ]
  },
  {
   "cell_type": "code",
   "execution_count": null,
   "id": "alien-juice",
   "metadata": {},
   "outputs": [],
   "source": [
    "ax = data.plot.scatter(x='petal length (cm)', y='petal width (cm)', c = 'target', cmap = 'brg')\n",
    "error_samples.plot.scatter(x='petal length (cm)', y='petal width (cm)', color = 'gray', \n",
    "                           s = 50, marker = 'D', alpha = 0.5, ax=ax)"
   ]
  },
  {
   "cell_type": "code",
   "execution_count": null,
   "id": "sacred-parliament",
   "metadata": {},
   "outputs": [],
   "source": []
  },
  {
   "cell_type": "code",
   "execution_count": null,
   "id": "given-repair",
   "metadata": {},
   "outputs": [],
   "source": []
  }
 ],
 "metadata": {
  "kernelspec": {
   "display_name": "Python 3",
   "language": "python",
   "name": "python3"
  },
  "language_info": {
   "codemirror_mode": {
    "name": "ipython",
    "version": 3
   },
   "file_extension": ".py",
   "mimetype": "text/x-python",
   "name": "python",
   "nbconvert_exporter": "python",
   "pygments_lexer": "ipython3",
   "version": "3.8.2"
  }
 },
 "nbformat": 4,
 "nbformat_minor": 5
}
